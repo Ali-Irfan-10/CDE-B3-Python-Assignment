{
 "cells": [
  {
   "cell_type": "markdown",
   "metadata": {},
   "source": [
    "## NAME : Ali Irfan"
   ]
  },
  {
   "cell_type": "markdown",
   "metadata": {},
   "source": [
    "## ROLL NUMBER : 463082 "
   ]
  },
  {
   "cell_type": "markdown",
   "metadata": {},
   "source": [
    "## ASSIGNMENT #6"
   ]
  },
  {
   "cell_type": "markdown",
   "metadata": {},
   "source": [
    "## Classes"
   ]
  },
  {
   "cell_type": "markdown",
   "metadata": {
    "id": "XLFr4w_7OFN7"
   },
   "source": [
    "1. Write a Python program to create a class representing a Circle. Include methods to calculate its area and perimeter."
   ]
  },
  {
   "cell_type": "code",
   "execution_count": 2,
   "metadata": {},
   "outputs": [
    {
     "name": "stdin",
     "output_type": "stream",
     "text": [
      "Enter radius of the circle:  12\n"
     ]
    },
    {
     "name": "stdout",
     "output_type": "stream",
     "text": [
      "Area of the circle is  37.68\n",
      "Perimeter of the circle is  75.36\n"
     ]
    }
   ],
   "source": [
    "class Circle:\n",
    "    def __init__(self, radius):\n",
    "        self.radius = radius  \n",
    "\n",
    "    def area(self):\n",
    "        return 3.14 * self.radius \n",
    "\n",
    "    def perimeter(self):\n",
    "        return 2 * 3.14 * self.radius \n",
    "\n",
    "r = float(input(\"Enter radius of the circle: \"))\n",
    "c = Circle(r)\n",
    "print(\"Area of the circle is \", c.area())\n",
    "print(\"Perimeter of the circle is \", c.perimeter())\n"
   ]
  },
  {
   "cell_type": "markdown",
   "metadata": {
    "id": "CBPk4mH4OTCO"
   },
   "source": [
    "2. Write a Python program to create a person class. Include attributes like name, country and date of birth. Implement a method to determine the person's age.\n"
   ]
  },
  {
   "cell_type": "code",
   "execution_count": 3,
   "metadata": {},
   "outputs": [
    {
     "name": "stdin",
     "output_type": "stream",
     "text": [
      "Enter name:  Ali\n",
      "Enter country:  Pakistan\n",
      "Enter date of birth (YYYY-MM-DD):  2005-02-05\n"
     ]
    },
    {
     "name": "stdout",
     "output_type": "stream",
     "text": [
      "\n",
      "Name: Ali\n",
      "Country: Pakistan\n",
      "Age: 20 years\n"
     ]
    }
   ],
   "source": [
    "from datetime import datetime\n",
    "\n",
    "class Person:\n",
    "    def __init__(self, name, country, date_of_birth):\n",
    "        self.name = name\n",
    "        self.country = country\n",
    "        self.date_of_birth = datetime.strptime(date_of_birth, \"%Y-%m-%d\")\n",
    "\n",
    "    def get_age(self):\n",
    "        today = datetime.today()\n",
    "        age = today.year - self.date_of_birth.year\n",
    "\n",
    "        if (today.month, today.day) < (self.date_of_birth.month, self.date_of_birth.day):\n",
    "            age -= 1\n",
    "        return age\n",
    "\n",
    "name = input(\"Enter name: \")\n",
    "country = input(\"Enter country: \")\n",
    "dob = input(\"Enter date of birth (YYYY-MM-DD): \")\n",
    "\n",
    "person = Person(name, country, dob)\n",
    "\n",
    "print(\"\\nName:\", person.name)\n",
    "print(\"Country:\", person.country)\n",
    "print(\"Age:\", person.get_age(), \"years\")\n"
   ]
  },
  {
   "cell_type": "markdown",
   "metadata": {},
   "source": [
    "3. Write a Python program to create a calculator class. Include methods for basic arithmetic operations."
   ]
  },
  {
   "cell_type": "code",
   "execution_count": 4,
   "metadata": {},
   "outputs": [
    {
     "name": "stdin",
     "output_type": "stream",
     "text": [
      "Enter first number:  32\n",
      "Enter second number:  45\n"
     ]
    },
    {
     "name": "stdout",
     "output_type": "stream",
     "text": [
      "Addition: 77.0\n",
      "Subtraction: -13.0\n",
      "Multiplication: 1440.0\n",
      "Division: 0.7111111111111111\n"
     ]
    }
   ],
   "source": [
    "class Calculator:\n",
    "    def add(self, a, b):\n",
    "        return a + b\n",
    "\n",
    "    def subtract(self, a, b):\n",
    "        return a - b\n",
    "\n",
    "    def multiply(self, a, b):\n",
    "        return a * b\n",
    "\n",
    "    def divide(self, a, b):\n",
    "        if b == 0:\n",
    "            return \"Cannot divide by zero\"\n",
    "        return a / b\n",
    "\n",
    "calc = Calculator()\n",
    "\n",
    "num1 = float(input(\"Enter first number: \"))\n",
    "num2 = float(input(\"Enter second number: \"))\n",
    "\n",
    "print(\"Addition:\", calc.add(num1, num2))\n",
    "print(\"Subtraction:\", calc.subtract(num1, num2))\n",
    "print(\"Multiplication:\", calc.multiply(num1, num2))\n",
    "print(\"Division:\", calc.divide(num1, num2))\n"
   ]
  },
  {
   "cell_type": "code",
   "execution_count": null,
   "metadata": {},
   "outputs": [],
   "source": []
  }
 ],
 "metadata": {
  "colab": {
   "provenance": []
  },
  "kernelspec": {
   "display_name": "Python 3 (ipykernel)",
   "language": "python",
   "name": "python3"
  },
  "language_info": {
   "codemirror_mode": {
    "name": "ipython",
    "version": 3
   },
   "file_extension": ".py",
   "mimetype": "text/x-python",
   "name": "python",
   "nbconvert_exporter": "python",
   "pygments_lexer": "ipython3",
   "version": "3.12.4"
  }
 },
 "nbformat": 4,
 "nbformat_minor": 4
}
