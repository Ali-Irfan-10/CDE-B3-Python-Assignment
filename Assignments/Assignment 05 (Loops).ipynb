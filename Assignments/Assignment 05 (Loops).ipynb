{
 "cells": [
  {
   "cell_type": "markdown",
   "id": "34fbda94-cd48-4386-9f15-457d2aac93c6",
   "metadata": {},
   "source": [
    "## NAME : ALI IRFAN\n",
    "## ROLL NUMBER : 463082\n",
    "## ASSIGNMENT # 05 (Loops)"
   ]
  },
  {
   "cell_type": "markdown",
   "id": "7743bce4-d455-47f9-869e-f57e5a9e8eed",
   "metadata": {},
   "source": [
    "1. Write a Python program to print the numbers from 1 to 10 using a for loop. \n"
   ]
  },
  {
   "cell_type": "code",
   "execution_count": 3,
   "id": "b4cf0566-ba30-4ec7-8912-875f9d3b71c0",
   "metadata": {},
   "outputs": [
    {
     "name": "stdout",
     "output_type": "stream",
     "text": [
      "1\n",
      "2\n",
      "3\n",
      "4\n",
      "5\n",
      "6\n",
      "7\n",
      "8\n",
      "9\n",
      "10\n"
     ]
    }
   ],
   "source": [
    "for x in range(1,11):\n",
    "    print(x)"
   ]
  },
  {
   "cell_type": "markdown",
   "id": "5f217faa-2650-43fd-bc73-c0bd77ae507a",
   "metadata": {},
   "source": [
    "2. Write a Python program to print the numbers from 20 to 1 using a while loop.\n"
   ]
  },
  {
   "cell_type": "code",
   "execution_count": 5,
   "id": "5d39bf36-85f3-444f-a534-72cadcfb8d1d",
   "metadata": {},
   "outputs": [
    {
     "name": "stdout",
     "output_type": "stream",
     "text": [
      "20\n",
      "19\n",
      "18\n",
      "17\n",
      "16\n",
      "15\n",
      "14\n",
      "13\n",
      "12\n",
      "11\n",
      "10\n",
      "9\n",
      "8\n",
      "7\n",
      "6\n",
      "5\n",
      "4\n",
      "3\n",
      "2\n",
      "1\n"
     ]
    }
   ],
   "source": [
    "x = 20\n",
    "while x > 0:\n",
    "    print (x)\n",
    "    x-=1"
   ]
  },
  {
   "cell_type": "markdown",
   "id": "1d47f51d-d83d-4377-aa2c-7e50985d5ba7",
   "metadata": {},
   "source": [
    "3. Write a program to print even numbers from 1 to 10."
   ]
  },
  {
   "cell_type": "code",
   "execution_count": 6,
   "id": "430f2448-a0bd-4619-a569-0b07e6d16c06",
   "metadata": {},
   "outputs": [
    {
     "name": "stdout",
     "output_type": "stream",
     "text": [
      "Even Numbers:\n",
      "2\n",
      "4\n",
      "6\n",
      "8\n",
      "10\n"
     ]
    }
   ],
   "source": [
    "print(\"Even Numbers:\")\n",
    "for x in range(1,11):\n",
    "    if x%2 == 0:\n",
    "        print(x)"
   ]
  },
  {
   "cell_type": "markdown",
   "id": "b90b4648-a16c-4548-9c66-351d59543247",
   "metadata": {},
   "source": [
    "4. Write a program that prompts the user to enter a number n and prints all the\n",
    "numbers from 1 to n. "
   ]
  },
  {
   "cell_type": "code",
   "execution_count": 8,
   "id": "fa38de6f-e471-4bc5-be47-3f1aa957ccec",
   "metadata": {},
   "outputs": [
    {
     "name": "stdin",
     "output_type": "stream",
     "text": [
      "Enter a number:  7\n"
     ]
    },
    {
     "name": "stdout",
     "output_type": "stream",
     "text": [
      "1\n",
      "2\n",
      "3\n",
      "4\n",
      "5\n",
      "6\n",
      "7\n"
     ]
    }
   ],
   "source": [
    "n = int(input(\"Enter a number: \"))\n",
    "for x in range (1,n+1):\n",
    "    print(x)"
   ]
  },
  {
   "cell_type": "markdown",
   "id": "a96da90e-6c15-4d26-9f24-3e085e25d1ff",
   "metadata": {},
   "source": [
    "5. Write a program that prompts the user to enter a number n, and then prints all the\n",
    "odd numbers between 1 and n. "
   ]
  },
  {
   "cell_type": "code",
   "execution_count": 12,
   "id": "b36e8a7d-1941-45f9-9d22-00d4e9364628",
   "metadata": {},
   "outputs": [
    {
     "name": "stdin",
     "output_type": "stream",
     "text": [
      "Enter a number:  15\n"
     ]
    },
    {
     "name": "stdout",
     "output_type": "stream",
     "text": [
      "1\n",
      "3\n",
      "5\n",
      "7\n",
      "9\n",
      "11\n",
      "13\n",
      "15\n"
     ]
    }
   ],
   "source": [
    "n = int(input(\"Enter a number: \"))\n",
    "for x in range (1,n+1):\n",
    "    if x%2 != 0:\n",
    "        print(x)"
   ]
  },
  {
   "cell_type": "markdown",
   "id": "753aac70-80ae-413e-b762-7f5c9705686d",
   "metadata": {},
   "source": [
    "6. Write a program that prints 'Happy Birthday!' five times on screen. \n"
   ]
  },
  {
   "cell_type": "code",
   "execution_count": 14,
   "id": "e1cf394c-0043-4a16-8c1b-2c736c38c516",
   "metadata": {},
   "outputs": [
    {
     "name": "stdout",
     "output_type": "stream",
     "text": [
      "happy birthday\n",
      "happy birthday\n",
      "happy birthday\n",
      "happy birthday\n",
      "happy birthday\n"
     ]
    }
   ],
   "source": [
    "for temp in range(5):\n",
    "    print(\"happy birthday\")"
   ]
  },
  {
   "cell_type": "markdown",
   "id": "6e132d3e-0516-4e48-b281-9faf5b136baf",
   "metadata": {},
   "source": [
    "7. Write a program that takes a number n as input from the user and generates the first\n",
    "n terms of the series formed by squaring the natural numbers.\n",
    "Sample output\n",
    "Enter a number: 6\n",
    "The first 6 terms of the series are:\n",
    "1 4 9 16 25 36 \n"
   ]
  },
  {
   "cell_type": "code",
   "execution_count": 16,
   "id": "29fd1df4-0110-4f91-9464-e130ed2d75db",
   "metadata": {},
   "outputs": [
    {
     "name": "stdin",
     "output_type": "stream",
     "text": [
      "enter a number:  8\n"
     ]
    },
    {
     "name": "stdout",
     "output_type": "stream",
     "text": [
      "1\n",
      "4\n",
      "9\n",
      "16\n",
      "25\n",
      "36\n",
      "49\n",
      "64\n"
     ]
    }
   ],
   "source": [
    "n= int(input(\"enter a number: \"))\n",
    "for temp in range(1,n+1):\n",
    "   print (temp*temp) "
   ]
  },
  {
   "cell_type": "markdown",
   "id": "9fd6cd64-0eb1-4409-9d74-61ca11ec6fb5",
   "metadata": {},
   "source": [
    "8. Write a program that prompts the user to input a number and prints its multiplication\n",
    "table. \n"
   ]
  },
  {
   "cell_type": "code",
   "execution_count": 17,
   "id": "2e92edbf-ac4a-40c2-a450-d2ab6bd7dc25",
   "metadata": {},
   "outputs": [
    {
     "name": "stdin",
     "output_type": "stream",
     "text": [
      "Enter a number:  9\n"
     ]
    },
    {
     "name": "stdout",
     "output_type": "stream",
     "text": [
      "9 x 1 = 9\n",
      "9 x 2 = 18\n",
      "9 x 3 = 27\n",
      "9 x 4 = 36\n",
      "9 x 5 = 45\n",
      "9 x 6 = 54\n",
      "9 x 7 = 63\n",
      "9 x 8 = 72\n",
      "9 x 9 = 81\n",
      "9 x 10 = 90\n"
     ]
    }
   ],
   "source": [
    "num = int(input(\"Enter a number: \"))\n",
    "for i in range(1,11):\n",
    "    print(num,\"x\",i,\"=\",i*num)"
   ]
  },
  {
   "cell_type": "markdown",
   "id": "b22fb4f3-e088-4727-b57a-1920323c35ac",
   "metadata": {},
   "source": [
    "9. Write a Python program to print the first 8 terms of an arithmetic progression starting\n",
    "with 3 and having a common difference of 4.\n",
    "The program should output the following sequence:\n",
    "3 7 11 15 19 23 27 31 \n"
   ]
  },
  {
   "cell_type": "code",
   "execution_count": 20,
   "id": "328f2628-80c7-4b8c-b19e-042a8225aa2c",
   "metadata": {},
   "outputs": [
    {
     "name": "stdout",
     "output_type": "stream",
     "text": [
      "3 7 11 15 19 23 27 31 "
     ]
    }
   ],
   "source": [
    "a = 3    \n",
    "d = 4    \n",
    "n = 8    \n",
    "\n",
    "for i in range(n):\n",
    "    term = a + i * d\n",
    "    print(term, end=\" \")"
   ]
  },
  {
   "cell_type": "markdown",
   "id": "550a4415-0446-4547-af51-fafd330b56a8",
   "metadata": {},
   "source": [
    "10. Write a Python program to print the first 6 terms of a geometric sequence starting\n",
    "with 2 and having a common ratio of 3.\n",
    "The program should output the following sequence:\n",
    "2 6 18 54 162 486 \n"
   ]
  },
  {
   "cell_type": "code",
   "execution_count": 21,
   "id": "c01fe378-4074-4bf3-9a6d-44e09cf59408",
   "metadata": {},
   "outputs": [
    {
     "name": "stdout",
     "output_type": "stream",
     "text": [
      "2 6 18 54 162 486 "
     ]
    }
   ],
   "source": [
    "a = 2 \n",
    "r = 3 \n",
    "\n",
    "for i in range(6):   \n",
    "    term = a * (r ** i)\n",
    "    print(term, end=\" \")"
   ]
  },
  {
   "cell_type": "markdown",
   "id": "45328a47-7e26-45bf-b30e-8bd6e86a975c",
   "metadata": {},
   "source": [
    "10. Write a Python program to print the first 6 terms of a geometric sequence starting\n",
    "with 2 and having a common ratio of 3.\n",
    "The program should output the following sequence:\n",
    "2 6 18 54 162 486 \n"
   ]
  },
  {
   "cell_type": "code",
   "execution_count": 23,
   "id": "91fc8139-c4b6-4909-af46-51ac3e3c1b12",
   "metadata": {},
   "outputs": [
    {
     "name": "stdin",
     "output_type": "stream",
     "text": [
      "Enter a number:  90\n"
     ]
    },
    {
     "name": "stdout",
     "output_type": "stream",
     "text": [
      "Sum of all numbers upto 90 is:  4095\n"
     ]
    }
   ],
   "source": [
    "n = int (input(\"Enter a number: \"))\n",
    "sum = 0\n",
    "for x in range (1,n+1):\n",
    "    sum += x\n",
    "print (f\"Sum of all numbers upto {n} is: \",sum)"
   ]
  },
  {
   "cell_type": "markdown",
   "id": "d76da5e1-7b08-4d9c-a9cc-ac89ad1259de",
   "metadata": {},
   "source": [
    "12. write a program that takes a positive integer N as input and calculates the sum of\n",
    "the reciprocals of all numbers from 1 up to N. The program should display the final sum.\n",
    "Output of the program should be like:\n",
    "Enter a positive integer: 5\n",
    "The sum of reciprocals from 1 to 5 is: 2.28 \n"
   ]
  },
  {
   "cell_type": "code",
   "execution_count": 24,
   "id": "7e5fc0aa-67f0-4535-954b-09cc97334af2",
   "metadata": {},
   "outputs": [
    {
     "name": "stdin",
     "output_type": "stream",
     "text": [
      "Enter a number:  5\n"
     ]
    },
    {
     "name": "stdout",
     "output_type": "stream",
     "text": [
      "Sum of all reciprocals upto 5 is:  2.283333333333333\n"
     ]
    }
   ],
   "source": [
    "n = int (input(\"Enter a number: \"))\n",
    "sum = 0\n",
    "for x in range (1,n+1):\n",
    "    sum += (1/x)\n",
    "print (f\"Sum of all reciprocals upto {n} is: \",sum)"
   ]
  },
  {
   "cell_type": "markdown",
   "id": "6690c467-1178-4b0d-a8a2-dd44ef891c7c",
   "metadata": {},
   "source": [
    "13. Write a program that prompts the user to enter a number and repeats this process 5\n",
    "times. The program should accumulate the numbers entered and then display the final\n",
    "running total."
   ]
  },
  {
   "cell_type": "code",
   "execution_count": 26,
   "id": "af1c35ef-e476-4cb0-bcf7-24159d0f6b18",
   "metadata": {},
   "outputs": [
    {
     "name": "stdin",
     "output_type": "stream",
     "text": [
      "Enter a number:  12\n",
      "Enter a number:  32\n",
      "Enter a number:  56\n",
      "Enter a number:  43\n",
      "Enter a number:  76\n"
     ]
    },
    {
     "name": "stdout",
     "output_type": "stream",
     "text": [
      "The final running total is:  219\n"
     ]
    }
   ],
   "source": [
    "n = 0\n",
    "sum = 0\n",
    "for x in range(5):\n",
    "    n = int(input(\"Enter a number: \"))\n",
    "    sum += n\n",
    "print(\"The final running total is: \",sum)"
   ]
  },
  {
   "cell_type": "markdown",
   "id": "7dadd8d9-c97b-4287-9b3f-1d1e49df9098",
   "metadata": {},
   "source": [
    "14. Write a program that prompts the user to enter a positive integer and calculates its\n",
    "factorial. The factorial of a positive integer 'n' is denoted as 'n!' and is calculated by\n",
    "multiplying all the integers from 1 to 'n' together. For example, the factorial of 5\n",
    "(denoted as 5!) is calculated as 1 x 2 x 3 x 4 x 5. \n"
   ]
  },
  {
   "cell_type": "code",
   "execution_count": 33,
   "id": "efe8052a-3888-470f-bb5b-304977901df3",
   "metadata": {},
   "outputs": [
    {
     "name": "stdin",
     "output_type": "stream",
     "text": [
      "Enter a positive integer:  5\n"
     ]
    },
    {
     "name": "stdout",
     "output_type": "stream",
     "text": [
      "Factorial of 5 is:  120\n"
     ]
    }
   ],
   "source": [
    "n = int(input(\"Enter a positive integer: \"))\n",
    "fact = 1\n",
    "if n < 0:\n",
    "    print(\"Factorial does not exist for negative numbers.\")\n",
    "elif n == 0:\n",
    "    print(f\"Factorial of {n} is 1\")\n",
    "else:\n",
    "    for x in range(1,n+1):\n",
    "        fact *= x\n",
    "    print(f\"Factorial of {n} is: \",fact)"
   ]
  },
  {
   "cell_type": "markdown",
   "id": "4500c2b8-b175-4ea6-ae84-403b7751ae8b",
   "metadata": {},
   "source": [
    "15. Write a Python program that prompts the user to enter a base number and an\n",
    "exponent, and then calculates the power of the base to the exponent. The program\n",
    "should not use the exponentiation operator (**) or the math.pow() function. The\n",
    "program should handle both positive and negative exponents."
   ]
  },
  {
   "cell_type": "code",
   "execution_count": 41,
   "id": "8b8a7a8d-3e61-4924-845c-9ee76c49be76",
   "metadata": {},
   "outputs": [
    {
     "name": "stdin",
     "output_type": "stream",
     "text": [
      "Enter the base number:  2\n",
      "Enter the exponent:  3\n"
     ]
    },
    {
     "name": "stdout",
     "output_type": "stream",
     "text": [
      "Power of 2 to 3 is:  8\n"
     ]
    }
   ],
   "source": [
    "base = int(input(\"Enter the base number: \"))\n",
    "expo = int(input(\"Enter the exponent: \"))\n",
    "res = 1\n",
    "for x in range(expo):\n",
    "    res *= base\n",
    "print(f\"Power of {base} to {expo} is: \",res)"
   ]
  },
  {
   "cell_type": "code",
   "execution_count": null,
   "id": "9a2bc9fd-1529-41f9-8671-e665af9c8a2c",
   "metadata": {},
   "outputs": [],
   "source": []
  }
 ],
 "metadata": {
  "kernelspec": {
   "display_name": "Python 3 (ipykernel)",
   "language": "python",
   "name": "python3"
  },
  "language_info": {
   "codemirror_mode": {
    "name": "ipython",
    "version": 3
   },
   "file_extension": ".py",
   "mimetype": "text/x-python",
   "name": "python",
   "nbconvert_exporter": "python",
   "pygments_lexer": "ipython3",
   "version": "3.13.1"
  }
 },
 "nbformat": 4,
 "nbformat_minor": 5
}
