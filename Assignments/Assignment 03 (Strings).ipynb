{
 "cells": [
  {
   "cell_type": "markdown",
   "id": "9e4ef443-a61a-4c03-aae6-e13423168392",
   "metadata": {},
   "source": [
    "## NAME : ALI IRFAN\n",
    "## ROLL NO : 463082\n",
    "## ASSIGNMENT # 03 (STRINGS)\n"
   ]
  },
  {
   "cell_type": "markdown",
   "id": "c1bfbab5-b783-457f-859b-0d6c634d7e9d",
   "metadata": {},
   "source": [
    "1. Write a program that accepts a string from user. Your program should count and display number of \n",
    "vowels in that string.  "
   ]
  },
  {
   "cell_type": "code",
   "execution_count": 6,
   "id": "4ee116dc-e4fe-44db-954b-373b9e455b94",
   "metadata": {},
   "outputs": [
    {
     "name": "stdin",
     "output_type": "stream",
     "text": [
      "Enter a string:  my name is ali\n"
     ]
    },
    {
     "name": "stdout",
     "output_type": "stream",
     "text": [
      "Number of vowels in the string: 5\n"
     ]
    }
   ],
   "source": [
    "s = input(\"Enter a string: \")\n",
    "count = s.count(\"a\") + s.count(\"e\") + s.count(\"i\") + s.count(\"o\") + s.count(\"u\")\n",
    "print(\"Number of vowels in the string:\", count)\n"
   ]
  },
  {
   "cell_type": "markdown",
   "id": "8e7940d3-2b42-4c2d-8621-20a9d25b5d81",
   "metadata": {},
   "source": [
    "2. Write a program that reads a string from keyboard and display: \n",
    "* The number of uppercase letters in the string \n",
    "* The number of lowercase letters in the string \n",
    "* The number of digits in the string \n",
    "* The number of whitespace characters in the string  "
   ]
  },
  {
   "cell_type": "code",
   "execution_count": 13,
   "id": "288e3129-166b-466a-8b63-12e3c2b44108",
   "metadata": {},
   "outputs": [
    {
     "name": "stdin",
     "output_type": "stream",
     "text": [
      "Enter a string:  My Age is 20\n"
     ]
    },
    {
     "name": "stdout",
     "output_type": "stream",
     "text": [
      "Number of uppercase letters =  2\n",
      "Number of lowercase letters =  5\n",
      "Number of digits =  2\n",
      "Number of whitespace =  3\n"
     ]
    }
   ],
   "source": [
    "s = input(\"Enter a string: \")\n",
    "count_uppercase = 0;\n",
    "count_lowercase = 0;\n",
    "count_digits = 0;\n",
    "count_whitespace = 0;\n",
    "\n",
    "for x in s:\n",
    "    if x.isupper():\n",
    "        count_uppercase += 1\n",
    "    elif x.islower():\n",
    "        count_lowercase += 1\n",
    "    elif x.isdigit():\n",
    "        count_digits += 1\n",
    "    elif x.isspace():\n",
    "        count_whitespace += 1\n",
    "\n",
    "print(\"Number of uppercase letters = \",count_uppercase)\n",
    "print(\"Number of lowercase letters = \",count_lowercase)\n",
    "print(\"Number of digits = \",count_digits)\n",
    "print(\"Number of whitespace = \",count_whitespace)"
   ]
  },
  {
   "cell_type": "markdown",
   "id": "3b1dbc5a-d1f1-44a6-ab41-606537ac7a38",
   "metadata": {},
   "source": [
    "3. Write a Python program that accepts a string from user. Your program should create and display a \n",
    "new string where the first and last characters have been exchanged. "
   ]
  },
  {
   "cell_type": "code",
   "execution_count": 15,
   "id": "413a7704-3984-43db-b3a9-c44187251b44",
   "metadata": {},
   "outputs": [
    {
     "name": "stdin",
     "output_type": "stream",
     "text": [
      "Enter a string:  HELLO\n"
     ]
    },
    {
     "name": "stdout",
     "output_type": "stream",
     "text": [
      "New string after swapping:  OELLH\n"
     ]
    }
   ],
   "source": [
    "s = input(\"Enter a string: \")\n",
    "new_s = s[-1] + s[1:-1] + s[0]\n",
    "print(\"New string after swapping: \",new_s)\n",
    "    "
   ]
  },
  {
   "cell_type": "markdown",
   "id": "52afd28a-2018-43df-b84d-b8cbf7481107",
   "metadata": {},
   "source": [
    "\n",
    "4. Write a Python program that accepts a string from user. Your program should create and display a new string where the first and last characters have been exchanged."
   ]
  },
  {
   "cell_type": "code",
   "execution_count": 68,
   "id": "f386d7e6-65e3-47f4-ac31-0ec38abdde34",
   "metadata": {},
   "outputs": [
    {
     "name": "stdin",
     "output_type": "stream",
     "text": [
      "Enter a string:  football\n"
     ]
    },
    {
     "name": "stdout",
     "output_type": "stream",
     "text": [
      "Reversed string: llabtoof\n"
     ]
    }
   ],
   "source": [
    "s = input(\"Enter a string: \")\n",
    "length = len(s)\n",
    "new_s = \"\"\n",
    "for x in range(1, length+1):\n",
    "    new_s += s[-x]  \n",
    "print(\"Reversed string:\", new_s)\n",
    "\n",
    "    "
   ]
  },
  {
   "cell_type": "markdown",
   "id": "4720e795-dd4e-419f-8b42-6bc54e55c692",
   "metadata": {},
   "source": [
    "5. Write a Python program that accepts a string from user. Your program should create a new string by \n",
    "shifting one position to left. "
   ]
  },
  {
   "cell_type": "code",
   "execution_count": 29,
   "id": "321c585d-3efd-449f-93c7-7425f009e416",
   "metadata": {},
   "outputs": [
    {
     "name": "stdin",
     "output_type": "stream",
     "text": [
      "Enter a string:  champions\n"
     ]
    },
    {
     "name": "stdout",
     "output_type": "stream",
     "text": [
      "New string after left shift:  hampionsc\n"
     ]
    }
   ],
   "source": [
    "s = input(\"Enter a string: \")\n",
    "new_s = s[1:] + s[0]\n",
    "print(\"New string after left shift: \",new_s)"
   ]
  },
  {
   "cell_type": "markdown",
   "id": "2d0548aa-8c37-4b59-9bb2-7f7b809787ac",
   "metadata": {},
   "source": [
    "6. Write a program that asks the user to input his name and print its initials. Assuming that the user \n",
    "always types first name, middle name and last name and does not include any unnecessary spaces. "
   ]
  },
  {
   "cell_type": "code",
   "execution_count": 41,
   "id": "d2af0ce9-333d-48c5-9280-3844f51bafae",
   "metadata": {},
   "outputs": [
    {
     "name": "stdin",
     "output_type": "stream",
     "text": [
      "Enter your name:  Ali Irfan\n"
     ]
    },
    {
     "name": "stdout",
     "output_type": "stream",
     "text": [
      "Initials :  A.I.\n"
     ]
    }
   ],
   "source": [
    "name = input(\"Enter your name: \")\n",
    "ini = name[0] + '.'\n",
    "for x in range(len(name)):\n",
    "    if name[x].isspace() == True:\n",
    "        ini += name[x+1] + '.'\n",
    "\n",
    "print(\"Initials : \",ini)\n",
    "    "
   ]
  },
  {
   "cell_type": "markdown",
   "id": "343c2928-8694-48bf-85f7-b9667cb5cdea",
   "metadata": {},
   "source": [
    "7. A palindrome is a string that reads the same backward as forward. For example, the words dad, \n",
    "madam and radar are all palindromes. Write a programs that determines whether the string is a \n",
    "palindrome. "
   ]
  },
  {
   "cell_type": "code",
   "execution_count": 43,
   "id": "0013ffd5-968a-405b-acae-91e58c70a24e",
   "metadata": {},
   "outputs": [
    {
     "name": "stdin",
     "output_type": "stream",
     "text": [
      "Enter a string:  madam\n"
     ]
    },
    {
     "name": "stdout",
     "output_type": "stream",
     "text": [
      "This string is a palindrome\n"
     ]
    }
   ],
   "source": [
    "s = input(\"Enter a string: \")\n",
    "length = len(s)\n",
    "new_s = \"\"\n",
    "for x in range(1, length+1):\n",
    "    new_s += s[-x]  \n",
    "\n",
    "if s == new_s:\n",
    "    print(\"This string is a palindrome\")\n",
    "else:\n",
    "    print(\"This string is not a palindrome\")\n"
   ]
  },
  {
   "cell_type": "markdown",
   "id": "3ae9e1b3-d62d-4b3c-b3ee-97c7168066fb",
   "metadata": {},
   "source": [
    "8. Write a program that display following output: \n",
    "SHIFT \n",
    "HIFTS \n",
    "IFTSH \n",
    "FTSHI \n",
    "TSHIF \n",
    "SHIFT  "
   ]
  },
  {
   "cell_type": "code",
   "execution_count": 57,
   "id": "b777c34b-a098-4d04-8c55-60bed2472aa0",
   "metadata": {},
   "outputs": [
    {
     "name": "stdin",
     "output_type": "stream",
     "text": [
      "Enter a string:  SHIFT\n"
     ]
    },
    {
     "name": "stdout",
     "output_type": "stream",
     "text": [
      "SHIFT\n",
      "HIFTS\n",
      "IFTSH\n",
      "FTSHI\n",
      "TSHIF\n",
      "SHIFT\n"
     ]
    }
   ],
   "source": [
    "s = input(\"Enter a string: \")\n",
    "for y in range(len(s)+1):\n",
    "    new_s = s[y:] + s[:y]\n",
    "    print(new_s)"
   ]
  },
  {
   "cell_type": "markdown",
   "id": "d498ca6f-857e-4398-87ab-42e9df3b6439",
   "metadata": {},
   "source": [
    "9. Write a program in python that accepts a string to setup a passwords. Your entered password must \n",
    "meet the following requirements: \n",
    "The password must be at least eight characters long. \n",
    "It must contain at least one uppercase letter. \n",
    "It must contain at least one lowercase letter. \n",
    "It must contain at least one numeric digit. \n",
    "Your program should should perform this validation.  "
   ]
  },
  {
   "cell_type": "code",
   "execution_count": 66,
   "id": "08feecbd-b0e5-48c1-bb15-8cad55c4d29b",
   "metadata": {},
   "outputs": [
    {
     "name": "stdin",
     "output_type": "stream",
     "text": [
      "Enter a string:  ALIirfan123\n"
     ]
    },
    {
     "name": "stdout",
     "output_type": "stream",
     "text": [
      "Your password ALIirfan123 is set\n"
     ]
    }
   ],
   "source": [
    "s = input(\"Enter a string: \")\n",
    "if len(s) > 7:\n",
    "    if any(c.isupper() for c in s) == True:\n",
    "        if any(c.islower() for c in s) == True:\n",
    "            if any(c.isdigit() for c in s) == True:\n",
    "                password = s\n",
    "                print(f\"Your password {password} is set\") \n",
    "            else:\n",
    "                print(\"ERROR!! Password must contain a numeric digit\")\n",
    "        else:\n",
    "            print(\"ERROR!! Password must contain at least one lowercase letter\")\n",
    "    else:\n",
    "        print(\"ERROR!! Password must contain at least one uppercase letter\")\n",
    "else:\n",
    "    print(\"ERROR!! Password must contain at least 8 characters\")"
   ]
  },
  {
   "cell_type": "code",
   "execution_count": null,
   "id": "3b7617f2-d7f3-4e41-bbc3-0794809aaeae",
   "metadata": {},
   "outputs": [],
   "source": []
  }
 ],
 "metadata": {
  "kernelspec": {
   "display_name": "Python 3 (ipykernel)",
   "language": "python",
   "name": "python3"
  },
  "language_info": {
   "codemirror_mode": {
    "name": "ipython",
    "version": 3
   },
   "file_extension": ".py",
   "mimetype": "text/x-python",
   "name": "python",
   "nbconvert_exporter": "python",
   "pygments_lexer": "ipython3",
   "version": "3.13.1"
  }
 },
 "nbformat": 4,
 "nbformat_minor": 5
}
