{
 "cells": [
  {
   "cell_type": "markdown",
   "id": "17692a14-fbc5-44f2-822b-49c56c6fd5f3",
   "metadata": {},
   "source": [
    "## NAME : ALI IRFAN\n",
    "## ROLL NO : 463082\n",
    "## ASSIGNMENT # 04 (List)"
   ]
  },
  {
   "cell_type": "markdown",
   "id": "b97f73c6-c7e4-485c-ae82-ff97c6dc6648",
   "metadata": {},
   "source": [
    "1. Write a program that accepts a list from user and print the alternate element of list. \n"
   ]
  },
  {
   "cell_type": "code",
   "execution_count": 2,
   "id": "ea20c194-8c56-4426-951c-80965ba116ea",
   "metadata": {},
   "outputs": [
    {
     "name": "stdin",
     "output_type": "stream",
     "text": [
      "Enter the items:  ali sheharyar ibrahim rahat annas\n"
     ]
    },
    {
     "name": "stdout",
     "output_type": "stream",
     "text": [
      "Alternate list:  ['ali', 'ibrahim', 'annas']\n"
     ]
    }
   ],
   "source": [
    "li = input(\"Enter the items: \")\n",
    "mylist = li.split()\n",
    "print(\"Alternate list: \",mylist[::2])"
   ]
  },
  {
   "cell_type": "markdown",
   "id": "3f2f567d-7dc6-42cc-bb1a-6ee91603a9bb",
   "metadata": {},
   "source": [
    "2. Write a program that accepts a list from user. Your program should reverse the content of list and\n",
    "display it. Do not use reverse() method. "
   ]
  },
  {
   "cell_type": "code",
   "execution_count": 10,
   "id": "14f729a5-f7c0-4a6a-9b1d-1224c1c06f0c",
   "metadata": {},
   "outputs": [
    {
     "name": "stdin",
     "output_type": "stream",
     "text": [
      "Enter the items:  a b c d \n"
     ]
    },
    {
     "name": "stdout",
     "output_type": "stream",
     "text": [
      "Reversed list:  ['d', 'c', 'b', 'a']\n"
     ]
    }
   ],
   "source": [
    "li = input(\"Enter the items: \")\n",
    "mylist = li.split()\n",
    "revlist = []\n",
    "for x in range(1,len(mylist)+1):\n",
    "    revlist.append(mylist[-x]) \n",
    "\n",
    "print(\"Reversed list: \",revlist)    "
   ]
  },
  {
   "cell_type": "markdown",
   "id": "c972c3a0-3bcf-4da5-a014-948ca4741132",
   "metadata": {},
   "source": [
    " 3. Find and display the largest number of a list without using built-in function max(). Your program\n",
    "should ask the user to input values in list from keyboard. \n"
   ]
  },
  {
   "cell_type": "code",
   "execution_count": 16,
   "id": "8163f728-8616-4e77-a233-34bf421b4060",
   "metadata": {},
   "outputs": [
    {
     "name": "stdin",
     "output_type": "stream",
     "text": [
      "Enter the numbers:  12 99 87 67 100 32\n"
     ]
    },
    {
     "name": "stdout",
     "output_type": "stream",
     "text": [
      "Greatest number in the list is:  100\n"
     ]
    }
   ],
   "source": [
    "li = input(\"Enter the numbers: \")\n",
    "mylist = li.split()\n",
    "mylist = [int(x) for x in mylist]\n",
    "greatest = mylist[0]\n",
    "for x in range(len(mylist)):\n",
    "    if greatest < mylist[x]:\n",
    "        greatest = mylist[x]\n",
    "\n",
    "print(\"Greatest number in the list is: \", greatest)\n",
    "    "
   ]
  },
  {
   "cell_type": "markdown",
   "id": "0633346f-60f0-44e9-a810-d5b82d95325e",
   "metadata": {},
   "source": [
    " 4. Write a program that rotates the element of a list so that the element at the first index moves to the\n",
    "second index, the element in the second index moves to the third index, etc., and the element in the last\n",
    "index moves to the first index. \n"
   ]
  },
  {
   "cell_type": "code",
   "execution_count": 28,
   "id": "ea7bb679-897c-47a2-8c4e-1aad364d9a46",
   "metadata": {},
   "outputs": [
    {
     "name": "stdin",
     "output_type": "stream",
     "text": [
      "Enter the numbers:  10 20 30 40 50\n"
     ]
    },
    {
     "name": "stdout",
     "output_type": "stream",
     "text": [
      "Rotated list:  [50, 10, 20, 30, 40]\n"
     ]
    }
   ],
   "source": [
    "li = input(\"Enter the numbers: \")\n",
    "mylist = li.split()\n",
    "mylist = [int(x) for x in mylist]\n",
    "rotate = [mylist[-1]] + mylist[:-1]\n",
    "print(\"Rotated list: \",rotate)"
   ]
  },
  {
   "cell_type": "markdown",
   "id": "2dc3ee88-78ed-403b-b94f-e4905043892f",
   "metadata": {},
   "source": [
    "5. Write a program that input a string and ask user to delete a given word from a string."
   ]
  },
  {
   "cell_type": "code",
   "execution_count": 34,
   "id": "6e9f7744-32d0-44cd-aa16-576f78ebefa0",
   "metadata": {},
   "outputs": [
    {
     "name": "stdin",
     "output_type": "stream",
     "text": [
      "Enter a string:  he is not a good boy\n",
      "what do you want to delete? :  not\n"
     ]
    },
    {
     "name": "stdout",
     "output_type": "stream",
     "text": [
      "String after deletion:  he is a good boy\n"
     ]
    }
   ],
   "source": [
    "s = input(\"Enter a string: \")\n",
    "delete = input(\"what do you want to delete? : \")\n",
    "new_s = s.split()\n",
    "new_s.remove(delete)\n",
    "s = \" \".join(new_s)\n",
    "print(\"String after deletion: \",s)"
   ]
  },
  {
   "cell_type": "markdown",
   "id": "ff9231b1-9cef-4764-9e31-4a1fe59ea3d0",
   "metadata": {},
   "source": [
    " 6. Write a program that reads a string from the user containing a date in the form mm/dd/yyyy. It\n",
    "should print the date in the form March 12, 2021. \n"
   ]
  },
  {
   "cell_type": "code",
   "execution_count": 35,
   "id": "025e9456-112b-42ad-8c0e-43b8694aa65c",
   "metadata": {},
   "outputs": [
    {
     "name": "stdin",
     "output_type": "stream",
     "text": [
      "Enter the date in the form mm/dd/yyyy:  02/5/2005\n"
     ]
    },
    {
     "name": "stdout",
     "output_type": "stream",
     "text": [
      "February 5,2005\n"
     ]
    }
   ],
   "source": [
    "date = input(\"Enter the date in the form mm/dd/yyyy: \")\n",
    "month,day,year = date.split('/')\n",
    "months = [\"January\", \"February\", \"March\", \"April\", \"May\", \"June\",\n",
    "          \"July\", \"August\", \"September\", \"October\", \"November\", \"December\"]\n",
    "month_name = months[int(month)-1]\n",
    "print(f\"{month_name} {day},{year}\")"
   ]
  },
  {
   "cell_type": "markdown",
   "id": "bb250a84-f9b0-4c50-bdcb-b75b72edef18",
   "metadata": {},
   "source": [
    "7. Write a program with a function that accepts a string from keyboard and create a new string after \n",
    "converting character of each word capitalized. For instance, if the sentence is \"stop and smell the roses.\" \n",
    "the output should be \"Stop And Smell The Roses\" "
   ]
  },
  {
   "cell_type": "code",
   "execution_count": 37,
   "id": "979e784b-aec3-40cc-9f70-c653f7ab0120",
   "metadata": {},
   "outputs": [
    {
     "name": "stdin",
     "output_type": "stream",
     "text": [
      "Enter the text:  winter is coming\n"
     ]
    },
    {
     "name": "stdout",
     "output_type": "stream",
     "text": [
      "After capitalization:  Winter Is Coming\n"
     ]
    }
   ],
   "source": [
    "def capitalize_words():\n",
    "    text = input(\"Enter the text: \")\n",
    "    words = text.split()\n",
    "    new_words = [x.capitalize() for x in words]\n",
    "    new_text = \" \".join(new_words)\n",
    "    print(\"After capitalization: \",new_text)\n",
    "\n",
    "capitalize_words()"
   ]
  },
  {
   "attachments": {
    "d8458cc0-8d75-4164-95b8-01fd98a6377b.png": {
     "image/png": "[encoded data removed]"
    }
   },
   "cell_type": "markdown",
   "id": "621ed190-ceea-435f-a92d-1bd462ebc007",
   "metadata": {},
   "source": [
    "![image.png](attachment:d8458cc0-8d75-4164-95b8-01fd98a6377b.png)"
   ]
  },
  {
   "cell_type": "code",
   "execution_count": 41,
   "id": "c56d8481-a9c0-4b96-9dca-9ff448964415",
   "metadata": {},
   "outputs": [
    {
     "name": "stdin",
     "output_type": "stream",
     "text": [
      "Enter the number of rows:  3\n",
      "Enter the number of columns:  3\n",
      "Enter the value for row 1 coloumn 1:  1\n",
      "Enter the value for row 1 coloumn 2:  2\n",
      "Enter the value for row 1 coloumn 3:  3\n",
      "Enter the value for row 2 coloumn 1:  4\n",
      "Enter the value for row 2 coloumn 2:  5\n",
      "Enter the value for row 2 coloumn 3:  6\n",
      "Enter the value for row 3 coloumn 1:  7\n",
      "Enter the value for row 3 coloumn 2:  8\n",
      "Enter the value for row 3 coloumn 3:  9\n"
     ]
    },
    {
     "name": "stdout",
     "output_type": "stream",
     "text": [
      "Matrix is: \n",
      "[1, 2, 3]\n",
      "[4, 5, 6]\n",
      "[7, 8, 9]\n",
      "Sum of row1 is 6\n",
      "Sum of row2 is 15\n",
      "Sum of row3 is 24\n"
     ]
    }
   ],
   "source": [
    "m = int(input(\"Enter the number of rows: \"))\n",
    "n = int(input(\"Enter the number of columns: \"))\n",
    "matrix = []\n",
    "for i in range(m):\n",
    "    row = []\n",
    "    for j in range(n):\n",
    "        value = int(input(f\"Enter the value for row {i+1} coloumn {j+1}: \"))\n",
    "        row.append(value)\n",
    "    matrix.append(row)\n",
    "\n",
    "sum_r = []\n",
    "print(\"Matrix is: \")\n",
    "for x in matrix:\n",
    "    print(x)\n",
    "    sum_r.append(sum(x))\n",
    "\n",
    "for x in range(len(sum_r)):\n",
    "    print(f\"Sum of row{x+1} is {sum_r[x]}\")\n",
    "            \n",
    "    "
   ]
  },
  {
   "cell_type": "code",
   "execution_count": 60,
   "id": "cf4d5696-3e63-46b8-8365-1f0f627a5c51",
   "metadata": {},
   "outputs": [
    {
     "name": "stdout",
     "output_type": "stream",
     "text": [
      "For matrix 1:\n"
     ]
    },
    {
     "name": "stdin",
     "output_type": "stream",
     "text": [
      "Enter the number of rows:  2\n",
      "Enter the number of columns:  2\n",
      "Enter the value for row 1 coloumn 1:  1\n",
      "Enter the value for row 1 coloumn 2:  2\n",
      "Enter the value for row 2 coloumn 1:  3\n",
      "Enter the value for row 2 coloumn 2:  4\n"
     ]
    },
    {
     "name": "stdout",
     "output_type": "stream",
     "text": [
      "For matrix 2:\n"
     ]
    },
    {
     "name": "stdin",
     "output_type": "stream",
     "text": [
      "Enter the number of rows:  2\n",
      "Enter the number of columns:  2\n",
      "Enter the value for row 1 coloumn 1:  9\n",
      "Enter the value for row 1 coloumn 2:  8\n",
      "Enter the value for row 2 coloumn 1:  7\n",
      "Enter the value for row 2 coloumn 2:  6\n"
     ]
    },
    {
     "name": "stdout",
     "output_type": "stream",
     "text": [
      "Matrices are: \n",
      "\t\n",
      "[1, 2]\n",
      "[3, 4]\n",
      "\t\n",
      "[9, 8]\n",
      "[7, 6]\n",
      "\n",
      "Addition of both matrices: \n",
      "\n",
      "[10, 10]\n",
      "[10, 10]\n"
     ]
    }
   ],
   "source": [
    "matrices = []\n",
    "for x in range(2):\n",
    "    print(f\"For matrix {x+1}:\")\n",
    "    m = int(input(\"Enter the number of rows: \"))\n",
    "    n = int(input(\"Enter the number of columns: \"))\n",
    "    matrix = []\n",
    "\n",
    "    for i in range(m):\n",
    "        row = []\n",
    "        for j in range(n):\n",
    "                value = int(input(f\"Enter the value for row {i+1} coloumn {j+1}: \"))\n",
    "                row.append(value)\n",
    "        matrix.append(row)\n",
    "    matrices.append(matrix)\n",
    "\n",
    "print(\"Matrices are: \")\n",
    "for x in matrices:\n",
    "    print(\"\\t\")\n",
    "    for y in x:\n",
    "        print(y)\n",
    "        \n",
    "        \n",
    "if len(matrices[0]) != len(matrices[1]) or len(matrices[0][0]) != len(matrices[1][0]):\n",
    "    print(\"\\nError! Matrices are not the same size. Cannot add.\")\n",
    "else:\n",
    "    print(\"\\nAddition of both matrices: \")\n",
    "    print()\n",
    "    add = []\n",
    "    for i in range(len(matrices[0])):\n",
    "        sum_row = []\n",
    "        for j in range(len(matrices[0][0])):\n",
    "            sum_val = matrices [0][i][j] + matrices [1][i][j]\n",
    "            sum_row.append(sum_val)\n",
    "        add.append(sum_row)\n",
    "\n",
    "for x in add:\n",
    "    print(x)"
   ]
  },
  {
   "cell_type": "code",
   "execution_count": 64,
   "id": "a7e721bf-3695-440a-b40b-020c55379d92",
   "metadata": {},
   "outputs": [
    {
     "name": "stdout",
     "output_type": "stream",
     "text": [
      "For matrix 1:\n"
     ]
    },
    {
     "name": "stdin",
     "output_type": "stream",
     "text": [
      "Enter the number of rows:  2\n",
      "Enter the number of columns:  2\n",
      "Enter the value for row 1 coloumn 1:  2\n",
      "Enter the value for row 1 coloumn 2:  2\n",
      "Enter the value for row 2 coloumn 1:  3\n",
      "Enter the value for row 2 coloumn 2:  4\n"
     ]
    },
    {
     "name": "stdout",
     "output_type": "stream",
     "text": [
      "For matrix 2:\n"
     ]
    },
    {
     "name": "stdin",
     "output_type": "stream",
     "text": [
      "Enter the number of rows:  2\n",
      "Enter the number of columns:  2\n",
      "Enter the value for row 1 coloumn 1:  6\n",
      "Enter the value for row 1 coloumn 2:  5\n",
      "Enter the value for row 2 coloumn 1:  7\n",
      "Enter the value for row 2 coloumn 2:  8\n"
     ]
    },
    {
     "name": "stdout",
     "output_type": "stream",
     "text": [
      "Matrices are: \n",
      "\t\n",
      "[2, 2]\n",
      "[3, 4]\n",
      "\t\n",
      "[6, 5]\n",
      "[7, 8]\n",
      "\n",
      "Multiplication of both matrices:\n",
      "\n",
      "[26, 26]\n",
      "[46, 47]\n"
     ]
    }
   ],
   "source": [
    "matrices = []\n",
    "for x in range(2):\n",
    "    print(f\"For matrix {x+1}:\")\n",
    "    m = int(input(\"Enter the number of rows: \"))\n",
    "    n = int(input(\"Enter the number of columns: \"))\n",
    "    matrix = []\n",
    "\n",
    "    for i in range(m):\n",
    "        row = []\n",
    "        for j in range(n):\n",
    "                value = int(input(f\"Enter the value for row {i+1} coloumn {j+1}: \"))\n",
    "                row.append(value)\n",
    "        matrix.append(row)\n",
    "    matrices.append(matrix)\n",
    "\n",
    "print(\"Matrices are: \")\n",
    "for x in matrices:\n",
    "    print(\"\\t\")\n",
    "    for y in x:\n",
    "        print(y)\n",
    "        \n",
    "if len(matrices[0][0]) != len(matrices[1]):\n",
    "    print(\"\\nError! Cannot multiply these matrices. Columns of Matrix 1 must equal rows of Matrix 2.\")\n",
    "else:\n",
    "    print(\"\\nMultiplication of both matrices:\\n\")\n",
    "    result = []\n",
    "    for i in range(len(matrices[0])):  \n",
    "        row = []\n",
    "        for j in range(len(matrices[1][0])):\n",
    "            mul_val = 0\n",
    "            for k in range(len(matrices[1])): \n",
    "                mul_val += matrices[0][i][k] * matrices[1][k][j]\n",
    "            row.append(mul_val)\n",
    "        result.append(row)\n",
    "\n",
    "    for r in result:\n",
    "        print(r)"
   ]
  },
  {
   "cell_type": "code",
   "execution_count": null,
   "id": "428aacc6-61b4-46be-b07a-9f2c0f7ae9ad",
   "metadata": {},
   "outputs": [],
   "source": []
  }
 ],
 "metadata": {
  "kernelspec": {
   "display_name": "Python 3 (ipykernel)",
   "language": "python",
   "name": "python3"
  },
  "language_info": {
   "codemirror_mode": {
    "name": "ipython",
    "version": 3
   },
   "file_extension": ".py",
   "mimetype": "text/x-python",
   "name": "python",
   "nbconvert_exporter": "python",
   "pygments_lexer": "ipython3",
   "version": "3.13.1"
  }
 },
 "nbformat": 4,
 "nbformat_minor": 5
}
