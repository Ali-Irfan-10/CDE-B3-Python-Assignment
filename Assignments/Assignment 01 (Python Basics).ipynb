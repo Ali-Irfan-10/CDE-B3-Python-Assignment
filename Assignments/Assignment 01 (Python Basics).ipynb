{
 "cells": [
  {
   "cell_type": "markdown",
   "metadata": {},
   "source": [
    "## NAME : ALI IRFAN\n",
    "## ROLL NUMBER : 463082\n",
    "## ASSIGNMENT # 01"
   ]
  },
  {
   "cell_type": "markdown",
   "metadata": {},
   "source": [
    "# Part -1 Python Basics (Variables)"
   ]
  },
  {
   "cell_type": "markdown",
   "metadata": {},
   "source": [
    "1. Print Your Name with your Father name and Date of birth using suitable escape sequence charactor"
   ]
  },
  {
   "cell_type": "code",
   "execution_count": 5,
   "metadata": {},
   "outputs": [
    {
     "name": "stdout",
     "output_type": "stream",
     "text": [
      "Name : Ali Irfan \n",
      "Father Name : Irfan Arif \n",
      "Date of Birth : 5/2/2005\n"
     ]
    }
   ],
   "source": [
    "print(\"Name : Ali Irfan \\nFather Name : Irfan Arif \\nDate of Birth : 5/2/2005\")"
   ]
  },
  {
   "cell_type": "markdown",
   "metadata": {},
   "source": [
    "2. Write your small bio using variables and print it using print function"
   ]
  },
  {
   "cell_type": "code",
   "execution_count": 11,
   "metadata": {},
   "outputs": [
    {
     "name": "stdout",
     "output_type": "stream",
     "text": [
      "Hello!! My name is Ali, I am 20 years old.\n",
      "I study Computer Systems Engineering at UIT University.\n",
      "I am also enrolled in Cloud data Engineering at Saylani\n"
     ]
    }
   ],
   "source": [
    "name = \"Ali\"\n",
    "age = 20\n",
    "field = \"Computer Systems Engineering\"\n",
    "uni = \"UIT University\"\n",
    "course = \"Cloud data Engineering\"\n",
    "inst = \"Saylani\" \n",
    "print(f\"Hello!! My name is {name}, I am {age} years old.\\nI study {field} at {uni}.\\nI am also enrolled in {course} at {inst}\")"
   ]
  },
  {
   "cell_type": "markdown",
   "metadata": {},
   "source": [
    "3. Write a program in which use all the operators we can use in Python"
   ]
  },
  {
   "cell_type": "code",
   "execution_count": 17,
   "metadata": {},
   "outputs": [
    {
     "name": "stdout",
     "output_type": "stream",
     "text": [
      "Arithmetic Operators:\n",
      "a + b = 13\n",
      "a - b = 7\n",
      "a * b = 30\n",
      "a / b = 3.3333333333333335\n",
      "a % b = 1\n",
      "a ** b = 1000\n",
      "a // b = 3\n",
      "\n",
      "Comparison Operators:\n",
      "a == b: False\n",
      "a != b: True\n",
      "a > b: True\n",
      "a < b: False\n",
      "a >= b: True\n",
      "a <= b: False\n",
      "\n",
      "Logical Operators:\n",
      "x and y: False\n",
      "x or y: True\n",
      "not x: False\n",
      "\n",
      "Assignment Operators:\n",
      "c += 2: 7\n",
      "c -= 1: 6\n",
      "c *= 3: 18\n",
      "c /= 2: 9.0\n",
      "c %= 4: 1.0\n",
      "c **= 2: 1.0\n",
      "c //= 3: 0.0\n",
      "\n"
     ]
    }
   ],
   "source": [
    "# Arithmetic Operators\n",
    "a = 10\n",
    "b = 3\n",
    "print(\"Arithmetic Operators:\")\n",
    "print(\"a + b =\", a + b)   # Addition\n",
    "print(\"a - b =\", a - b)   # Subtraction\n",
    "print(\"a * b =\", a * b)   # Multiplication\n",
    "print(\"a / b =\", a / b)   # Division\n",
    "print(\"a % b =\", a % b)   # Modulus\n",
    "print(\"a ** b =\", a ** b) # Exponent\n",
    "print(\"a // b =\", a // b) # Floor Division\n",
    "print()\n",
    "\n",
    "# Comparison Operators\n",
    "print(\"Comparison Operators:\")\n",
    "print(\"a == b:\", a == b)\n",
    "print(\"a != b:\", a != b)\n",
    "print(\"a > b:\", a > b)\n",
    "print(\"a < b:\", a < b)\n",
    "print(\"a >= b:\", a >= b)\n",
    "print(\"a <= b:\", a <= b)\n",
    "print()\n",
    "\n",
    "# Logical Operators\n",
    "x = True\n",
    "y = False\n",
    "print(\"Logical Operators:\")\n",
    "print(\"x and y:\", x and y)\n",
    "print(\"x or y:\", x or y)\n",
    "print(\"not x:\", not x)\n",
    "print()\n",
    "\n",
    "# Assignment Operators\n",
    "c = 5\n",
    "print(\"Assignment Operators:\")\n",
    "c += 2\n",
    "print(\"c += 2:\", c)\n",
    "c -= 1\n",
    "print(\"c -= 1:\", c)\n",
    "c *= 3\n",
    "print(\"c *= 3:\", c)\n",
    "c /= 2\n",
    "print(\"c /= 2:\", c)\n",
    "c %= 4\n",
    "print(\"c %= 4:\", c)\n",
    "c **= 2\n",
    "print(\"c **= 2:\", c)\n",
    "c //= 3\n",
    "print(\"c //= 3:\", c)\n",
    "print()"
   ]
  },
  {
   "cell_type": "markdown",
   "metadata": {},
   "source": [
    "4. Completes the following steps of small task:\n",
    "    - Mention Marks of English , Islamiat and Maths out of 100 in 3 different variables\n",
    "    - Mention Variable of Total Marks and assign 300 to it\n",
    "    - Calculate Percentage"
   ]
  },
  {
   "cell_type": "code",
   "execution_count": 15,
   "metadata": {},
   "outputs": [
    {
     "name": "stdout",
     "output_type": "stream",
     "text": [
      "Marks\n",
      "English :  90\n",
      "Islamiat :  95\n",
      "Maths :  99\n",
      "Obtained marks :  284\n",
      "Total Marks:  300\n",
      "Percentage :  94.66666666666667 %\n"
     ]
    }
   ],
   "source": [
    "eng = 90\n",
    "isl = 95\n",
    "maths = 99\n",
    "total = 300\n",
    "obt_marks = eng + isl + maths\n",
    "per = (obt_marks/total)*100\n",
    "print(\"Marks\")\n",
    "print(\"English : \",eng)\n",
    "print(\"Islamiat : \",isl)\n",
    "print(\"Maths : \",maths)\n",
    "print(\"Obtained marks : \",obt_marks)\n",
    "print(\"Total Marks: \",total)\n",
    "print(\"Percentage : \",per,\"%\")"
   ]
  },
  {
   "cell_type": "markdown",
   "metadata": {},
   "source": [
    "# Part -2 Python Basics (Conditional Statements)"
   ]
  },
  {
   "cell_type": "markdown",
   "metadata": {},
   "source": [
    "1) A company decided to give bonus of 5% to employee if his/her year of service is more than 5 years.\n",
    "Ask user for their salary and year of service and print the net bonus amount."
   ]
  },
  {
   "cell_type": "code",
   "execution_count": 24,
   "metadata": {},
   "outputs": [
    {
     "name": "stdin",
     "output_type": "stream",
     "text": [
      "Enter your salary:  300000\n",
      "Enter your years of service:  7\n"
     ]
    },
    {
     "name": "stdout",
     "output_type": "stream",
     "text": [
      "Net bonus :  15000.0\n",
      "New salary :  315000.0\n"
     ]
    }
   ],
   "source": [
    "sal = int(input(\"Enter your salary: \"))\n",
    "yos = int(input(\"Enter your years of service: \"))\n",
    "net_bonus = 0\n",
    "if yos > 5:\n",
    "          net_bonus = (sal/100)*5\n",
    "          sal += net_bonus\n",
    "          print(\"Net bonus : \",net_bonus)\n",
    "          print(\"New salary : \",sal)\n",
    "else:\n",
    "    print(\"salary : \",sal)\n",
    "    print(\"Net bonus : \",net_bonus)"
   ]
  },
  {
   "cell_type": "markdown",
   "metadata": {},
   "source": [
    "\n",
    "2) Write a program to check whether a person is eligible for voting or not. (accept age from user) if age is greater than 17 eligible otherwise not eligible"
   ]
  },
  {
   "cell_type": "code",
   "execution_count": 25,
   "metadata": {},
   "outputs": [
    {
     "name": "stdin",
     "output_type": "stream",
     "text": [
      "Enter your age:  20\n"
     ]
    },
    {
     "name": "stdout",
     "output_type": "stream",
     "text": [
      "You are eligible for voting\n"
     ]
    }
   ],
   "source": [
    "age = int(input(\"Enter your age: \"))\n",
    "if age > 17:\n",
    "    print(\"You are eligible for voting\")\n",
    "else:\n",
    "    print(\"You are not eligible for voting\")"
   ]
  },
  {
   "cell_type": "markdown",
   "metadata": {},
   "source": [
    "\n",
    "3) Write a program to check whether a number entered by user is even or odd."
   ]
  },
  {
   "cell_type": "code",
   "execution_count": 35,
   "metadata": {},
   "outputs": [
    {
     "name": "stdin",
     "output_type": "stream",
     "text": [
      "Enter a number:  78\n"
     ]
    },
    {
     "name": "stdout",
     "output_type": "stream",
     "text": [
      "This is an even num\n"
     ]
    }
   ],
   "source": [
    "x = int(input(\"Enter a number: \"))\n",
    "if x%2==0:\n",
    "    print(\"This is an even num\")\n",
    "else:\n",
    "    print(\"This is an odd num\")"
   ]
  },
  {
   "cell_type": "markdown",
   "metadata": {},
   "source": [
    "4) Write a program to check whether a number is divisible by 7 or not.\n",
    "Show Answer"
   ]
  },
  {
   "cell_type": "code",
   "execution_count": 28,
   "metadata": {},
   "outputs": [
    {
     "name": "stdin",
     "output_type": "stream",
     "text": [
      "enter a num:  49\n"
     ]
    },
    {
     "name": "stdout",
     "output_type": "stream",
     "text": [
      "This number is divisible by 7\n"
     ]
    }
   ],
   "source": [
    "y = int(input(\"Enter a number: \"))\n",
    "if y%7==0:\n",
    "    print(\"This number is divisible by 7\")\n",
    "else:\n",
    "    print(\"This number is not divisible by 7\")"
   ]
  },
  {
   "cell_type": "markdown",
   "metadata": {},
   "source": [
    "5) Write a program to display \n",
    "\"Hello\" if a number entered by user is a multiple of five , otherwise print \"Bye\"."
   ]
  },
  {
   "cell_type": "code",
   "execution_count": 29,
   "metadata": {},
   "outputs": [
    {
     "name": "stdin",
     "output_type": "stream",
     "text": [
      "Enter a number:  90\n"
     ]
    },
    {
     "name": "stdout",
     "output_type": "stream",
     "text": [
      "Hello\n"
     ]
    }
   ],
   "source": [
    "num = int(input(\"Enter a number: \"))\n",
    "if num%5==0:\n",
    "    print(\"Hello\")\n",
    "else:\n",
    "    print(\"Bye\")"
   ]
  },
  {
   "cell_type": "markdown",
   "metadata": {},
   "source": [
    "7) Write a program to display the last digit of a number.\n"
   ]
  },
  {
   "cell_type": "code",
   "execution_count": 37,
   "metadata": {},
   "outputs": [
    {
     "name": "stdin",
     "output_type": "stream",
     "text": [
      "Enter a number:  89\n"
     ]
    },
    {
     "name": "stdout",
     "output_type": "stream",
     "text": [
      "9\n"
     ]
    }
   ],
   "source": [
    "num = int(input(\"Enter a number: \"))\n",
    "last_digit = num % 10\n",
    "print (last_digit)"
   ]
  },
  {
   "cell_type": "markdown",
   "metadata": {},
   "source": [
    "9) Take values of length and breadth of a rectangle from user and print if it is square or rectangle."
   ]
  },
  {
   "cell_type": "code",
   "execution_count": 41,
   "metadata": {},
   "outputs": [
    {
     "name": "stdin",
     "output_type": "stream",
     "text": [
      "Enter length:  2\n",
      "Enter breadth:  4\n"
     ]
    },
    {
     "name": "stdout",
     "output_type": "stream",
     "text": [
      "It is a rectangle\n"
     ]
    }
   ],
   "source": [
    "len = int(input(\"Enter length: \"))\n",
    "bre = int(input(\"Enter breadth: \"))\n",
    "if len == bre:\n",
    "    print(\"It is a square\")\n",
    "else:\n",
    "    print(\"It is a rectangle\")\n"
   ]
  },
  {
   "cell_type": "markdown",
   "metadata": {},
   "source": [
    "10) Take two int values from user and print greatest among them."
   ]
  },
  {
   "cell_type": "code",
   "execution_count": 44,
   "metadata": {},
   "outputs": [
    {
     "name": "stdin",
     "output_type": "stream",
     "text": [
      "Enter number 1:  9\n",
      "Enter number 2:  2\n"
     ]
    },
    {
     "name": "stdout",
     "output_type": "stream",
     "text": [
      "Greater number =  9\n"
     ]
    }
   ],
   "source": [
    "num1 = int(input(\"Enter number 1: \"))\n",
    "num2 = int(input(\"Enter number 2: \"))\n",
    "great = 0\n",
    "if num1 == num2:\n",
    "    print(\"Both numbers are equal\")\n",
    "elif num1 > num2:\n",
    "    great = num1\n",
    "else:\n",
    "    great = num2\n",
    "print (\"Greater number = \",great)"
   ]
  },
  {
   "cell_type": "markdown",
   "metadata": {},
   "source": [
    "11) A shop will give discount of 10% if the cost of purchased quantity is more than 1000.\n",
    "Ask user for quantity\n",
    "Suppose, one unit will cost 100.\n",
    "Judge and print total cost for user."
   ]
  },
  {
   "cell_type": "code",
   "execution_count": 45,
   "metadata": {},
   "outputs": [
    {
     "name": "stdin",
     "output_type": "stream",
     "text": [
      "Enter quantity:  2000\n"
     ]
    },
    {
     "name": "stdout",
     "output_type": "stream",
     "text": [
      "Discounted cost:  180000.0\n"
     ]
    }
   ],
   "source": [
    "unit_price = 100\n",
    "quan = int(input(\"Enter quantity: \"))\n",
    "total_cost = unit_price*quan\n",
    "if quan > 1000:\n",
    "    total_cost-=((total_cost/100)*10)\n",
    "    print(\"Discounted cost: \",total_cost)\n",
    "else:\n",
    "    print(\"Total cost: \",total_cost)"
   ]
  },
  {
   "cell_type": "markdown",
   "metadata": {},
   "source": [
    "12) A school has following rules for grading system:\n",
    "\n",
    "a. Below 25 - F\n",
    "\n",
    "b. 25 to 45 - E\n",
    "\n",
    "c. 45 to 50 - D\n",
    "\n",
    "d. 50 to 60 - C\n",
    "\n",
    "e. 60 to 80 - B\n",
    "\n",
    "f. Above 80 - A\n",
    "\n",
    "Ask user to enter marks and print the corresponding grade."
   ]
  },
  {
   "cell_type": "code",
   "execution_count": 46,
   "metadata": {},
   "outputs": [
    {
     "name": "stdin",
     "output_type": "stream",
     "text": [
      "Enter your marks:  99\n"
     ]
    },
    {
     "name": "stdout",
     "output_type": "stream",
     "text": [
      "Your Grade is: A\n"
     ]
    }
   ],
   "source": [
    "marks = int(input(\"Enter your marks: \"))\n",
    "\n",
    "if marks < 25:\n",
    "    grade = \"F\"\n",
    "elif marks >= 25 and marks < 45:\n",
    "    grade = \"E\"\n",
    "elif marks >= 45 and marks < 50:\n",
    "    grade = \"D\"\n",
    "elif marks >= 50 and marks < 60:\n",
    "    grade = \"C\"\n",
    "elif marks >= 60 and marks <= 80:\n",
    "    grade = \"B\"\n",
    "else:\n",
    "    grade = \"A\"\n",
    "\n",
    "print(\"Your Grade is:\", grade)"
   ]
  },
  {
   "cell_type": "markdown",
   "metadata": {},
   "source": [
    "14)A student will not be allowed to sit in exam if his/her attendence is less than 75%.\n",
    "\n",
    "Take following input from user\n",
    "\n",
    "- Number of classes held\n",
    "\n",
    "- Number of classes attended.\n",
    "\n",
    "And print\n",
    "\n",
    "- percentage of class attended\n",
    "\n",
    "- Is student is allowed to sit in exam or not.\n"
   ]
  },
  {
   "cell_type": "code",
   "execution_count": 49,
   "metadata": {},
   "outputs": [
    {
     "name": "stdin",
     "output_type": "stream",
     "text": [
      "Total number of classes held? :  90\n",
      "How many did you attend? :  50\n"
     ]
    },
    {
     "name": "stdout",
     "output_type": "stream",
     "text": [
      "Your attendace is 55.55555555555556%. You are not allowed to sit in exam\n"
     ]
    }
   ],
   "source": [
    "noch = int(input(\"Total number of classes held? : \"))\n",
    "noca = int(input(\"How many did you attend? : \"))\n",
    "attend = (noca/noch)*100\n",
    "if attend > 75:\n",
    "    print(f\"Your attendace is {attend}%. You are allowed to sit in exam\")\n",
    "else:\n",
    "    print(f\"Your attendace is {attend}%. You are not allowed to sit in exam\")"
   ]
  },
  {
   "cell_type": "markdown",
   "metadata": {},
   "source": [
    "15) Modify the above question to allow student to sit if he/she has medical cause. Ask user if he/she has medical cause or not ( 'Y' or 'N' ) and print accordingly."
   ]
  },
  {
   "cell_type": "code",
   "execution_count": 53,
   "metadata": {},
   "outputs": [
    {
     "name": "stdin",
     "output_type": "stream",
     "text": [
      "Total number of classes held? :  90\n",
      "How many did you attend? :  10\n"
     ]
    },
    {
     "name": "stdout",
     "output_type": "stream",
     "text": [
      "Your attendace is 11.11111111111111%. You are not allowed to sit in exam\n"
     ]
    },
    {
     "name": "stdin",
     "output_type": "stream",
     "text": [
      "Why were you absent? Any medical causes? ('Y' or 'N'):  Y\n"
     ]
    },
    {
     "name": "stdout",
     "output_type": "stream",
     "text": [
      "Ok no problem, you may sit in exam after providing medical certificate\n"
     ]
    }
   ],
   "source": [
    "noch = int(input(\"Total number of classes held? : \"))\n",
    "noca = int(input(\"How many did you attend? : \"))\n",
    "attend = (noca/noch)*100\n",
    "if attend > 75:\n",
    "    print(f\"Your attendace is {attend}%. You are allowed to sit in exam\")\n",
    "else:\n",
    "    print(f\"Your attendace is {attend}%. You are not allowed to sit in exam\")\n",
    "    cause = input(\"Why were you absent? Any medical causes? ('Y' or 'N'): \")\n",
    "    if cause == \"Y\":\n",
    "        print(\"Ok no problem, you may sit in exam after providing medical certificate\")\n",
    "    elif cause == \"N\":\n",
    "        print(\"No way you are sitting in any exam!!\")\n",
    "    else:\n",
    "        print(\"Invalid response\")  "
   ]
  },
  {
   "cell_type": "markdown",
   "metadata": {},
   "source": [
    "16) Write a program to check if a year is leap year or not.\n",
    "\n",
    "If a year is divisible by 4 then it is leap year but if the year is century year like 2000, 1900, 2100 then it must be divisible by 400."
   ]
  },
  {
   "cell_type": "code",
   "execution_count": 60,
   "metadata": {},
   "outputs": [
    {
     "name": "stdin",
     "output_type": "stream",
     "text": [
      "Enter year 2016\n"
     ]
    },
    {
     "name": "stdout",
     "output_type": "stream",
     "text": [
      "It is a leap year\n"
     ]
    }
   ],
   "source": [
    "year = int(input(\"Enter year\"))\n",
    "cen = year % 100\n",
    "if cen == 0:\n",
    "    if year%400==0:\n",
    "        print(\"It is a leap year\")\n",
    "    else:\n",
    "        print (\"it is not a leap year\")\n",
    "else:\n",
    "    if year%4==0:\n",
    "        print(\"It is a leap year\")\n",
    "    else:\n",
    "        print (\"it is not a leap year\")\n",
    "        "
   ]
  },
  {
   "cell_type": "markdown",
   "metadata": {},
   "source": [
    "17) Ask user to enter age, gender ( M or F ), marital status ( Y or N ) and then using following rules print their place of service.\n",
    "\n",
    "if employee is female, then she will work only in urban areas.\n",
    "\n",
    "if employee is a male and age is in between 20 to 40 then he may work in anywhere\n",
    "\n",
    "if employee is male and age is in between 40 t0 60 then he will work in urban areas only.\n",
    "\n",
    "And any other input of age should print \"ERROR\""
   ]
  },
  {
   "cell_type": "code",
   "execution_count": 73,
   "metadata": {},
   "outputs": [
    {
     "name": "stdin",
     "output_type": "stream",
     "text": [
      "What is your gender? ('M' or 'F'):  M\n",
      "Are you married? ('Y' or 'N'):  N\n",
      "How old are you? :  20\n"
     ]
    },
    {
     "name": "stdout",
     "output_type": "stream",
     "text": [
      "You may work anywhere\n"
     ]
    }
   ],
   "source": [
    "gen = input(\"What is your gender? ('M' or 'F'): \")\n",
    "ms = input(\"Are you married? ('Y' or 'N'): \")\n",
    "if gen == 'F':\n",
    "    print(\"You will work only in urban areas.\")\n",
    "elif gen == 'M':\n",
    "    age = int(input(\"How old are you? : \"))\n",
    "    if age >= 20 and age <= 40:\n",
    "        print(\"You may work anywhere\")\n",
    "    elif age > 40 and age <= 60:\n",
    "        print(\"You will work in urban areas only\")\n",
    "    else:\n",
    "        print(\"ERROR: Invalid Input\")\n",
    "else:\n",
    "    print(\"ERROR: Invalid Gender\")\n",
    "\n"
   ]
  },
  {
   "cell_type": "markdown",
   "metadata": {},
   "source": [
    "6) Write a program to calculate the electricity bill (accept number of unit from user) according to the following criteria :\n",
    "     Unit                                                     Price  \n",
    "uptp 100 units                                             no charge\n",
    "Next 200 units                                              Rs 5 per unit\n",
    "After 200 units                                             Rs 10 per unit\n",
    "(For example if input unit is 350 than total bill amount is Rs.3500\n",
    "(For example if input unit is 97 than total bill amount is Rs.0\n",
    "(For example if input unit is 150 than total bill amount is Rs.750"
   ]
  },
  {
   "cell_type": "code",
   "execution_count": 78,
   "metadata": {},
   "outputs": [
    {
     "name": "stdin",
     "output_type": "stream",
     "text": [
      "enter the number of units used:  257\n"
     ]
    },
    {
     "name": "stdout",
     "output_type": "stream",
     "text": [
      "Your total bill amount at 257 units is 2570\n"
     ]
    }
   ],
   "source": [
    "units = int(input(\"enter the number of units used: \"))\n",
    "total_amt = 0\n",
    "if units <= 100:\n",
    "    print(f\"Your total bill amount at {units} units is {total_amt}\")\n",
    "elif units <=200:\n",
    "    total_amt = units*5\n",
    "    print(f\"Your total bill amount at {units} units is {total_amt}\")\n",
    "else:\n",
    "    total_amt = units*10\n",
    "    print(f\"Your total bill amount at {units} units is {total_amt}\")"
   ]
  },
  {
   "cell_type": "markdown",
   "metadata": {},
   "source": [
    "13) Take input of age of 3 people by user and determine oldest and youngest among them."
   ]
  },
  {
   "cell_type": "code",
   "execution_count": 84,
   "metadata": {},
   "outputs": [
    {
     "name": "stdin",
     "output_type": "stream",
     "text": [
      "Enter age of the first person:  56\n",
      "Enter age of the second person:  43\n",
      "Enter age of the third person:  77\n"
     ]
    },
    {
     "name": "stdout",
     "output_type": "stream",
     "text": [
      "Oldest age: 77\n",
      "Youngest age: 43\n"
     ]
    }
   ],
   "source": [
    "age1 = int(input(\"Enter age of the first person: \"))\n",
    "age2 = int(input(\"Enter age of the second person: \"))\n",
    "age3 = int(input(\"Enter age of the third person: \"))\n",
    "old = max(age1, age2, age3)\n",
    "young = min(age1, age2, age3)\n",
    "print(\"Oldest age:\", old)\n",
    "print(\"Youngest age:\", young)"
   ]
  }
 ],
 "metadata": {
  "kernelspec": {
   "display_name": "Python 3 (ipykernel)",
   "language": "python",
   "name": "python3"
  },
  "language_info": {
   "codemirror_mode": {
    "name": "ipython",
    "version": 3
   },
   "file_extension": ".py",
   "mimetype": "text/x-python",
   "name": "python",
   "nbconvert_exporter": "python",
   "pygments_lexer": "ipython3",
   "version": "3.13.1"
  }
 },
 "nbformat": 4,
 "nbformat_minor": 4
}
