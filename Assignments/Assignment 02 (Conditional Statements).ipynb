{
 "cells": [
  {
   "cell_type": "markdown",
   "metadata": {},
   "source": [
    "## NAME : ALI IRFAN\n",
    "## ROLL NUMBER : 463082\n",
    "## ASSIGNMENT # 02 (CONDITIONAL STATEMENTS)"
   ]
  },
  {
   "cell_type": "markdown",
   "metadata": {},
   "source": [
    "1) A company decided to give bonus of 5% to employee if his/her year of service is more than 5 years.\n",
    "Ask user for their salary and year of service and print the net bonus amount."
   ]
  },
  {
   "cell_type": "code",
   "execution_count": 2,
   "metadata": {},
   "outputs": [
    {
     "name": "stdin",
     "output_type": "stream",
     "text": [
      "Enter your salary:  35000\n",
      "Enter your years of service:  6\n"
     ]
    },
    {
     "name": "stdout",
     "output_type": "stream",
     "text": [
      "Net bonus :  1750.0\n",
      "New salary :  36750.0\n"
     ]
    }
   ],
   "source": [
    "sal = int(input(\"Enter your salary: \"))\n",
    "yos = int(input(\"Enter your years of service: \"))\n",
    "net_bonus = 0\n",
    "if yos > 5:\n",
    "          net_bonus = (sal/100)*5\n",
    "          sal += net_bonus\n",
    "          print(\"Net bonus : \",net_bonus)\n",
    "          print(\"New salary : \",sal)\n",
    "else:\n",
    "    print(\"salary : \",sal)\n",
    "    print(\"Net bonus : \",net_bonus)"
   ]
  },
  {
   "cell_type": "markdown",
   "metadata": {},
   "source": [
    "\n",
    "2) Write a program to check whether a person is eligible for voting or not. (accept age from user) if age is greater than 17 eligible otherwise not eligible"
   ]
  },
  {
   "cell_type": "code",
   "execution_count": 3,
   "metadata": {},
   "outputs": [
    {
     "name": "stdin",
     "output_type": "stream",
     "text": [
      "Enter your age:  20\n"
     ]
    },
    {
     "name": "stdout",
     "output_type": "stream",
     "text": [
      "You are eligible for voting\n"
     ]
    }
   ],
   "source": [
    "age = int(input(\"Enter your age: \"))\n",
    "if age > 17:\n",
    "    print(\"You are eligible for voting\")\n",
    "else:\n",
    "    print(\"You are not eligible for voting\")"
   ]
  },
  {
   "cell_type": "markdown",
   "metadata": {},
   "source": [
    "\n",
    "3) Write a program to check whether a number entered by user is even or odd."
   ]
  },
  {
   "cell_type": "code",
   "execution_count": 4,
   "metadata": {},
   "outputs": [
    {
     "name": "stdin",
     "output_type": "stream",
     "text": [
      "Enter a number:  3\n"
     ]
    },
    {
     "name": "stdout",
     "output_type": "stream",
     "text": [
      "This is an odd num\n"
     ]
    }
   ],
   "source": [
    "x = int(input(\"Enter a number: \"))\n",
    "if x%2==0:\n",
    "    print(\"This is an even num\")\n",
    "else:\n",
    "    print(\"This is an odd num\")"
   ]
  },
  {
   "cell_type": "markdown",
   "metadata": {},
   "source": [
    "4) Write a program to check whether a number is divisible by 7 or not.\n",
    "Show Answer"
   ]
  },
  {
   "cell_type": "code",
   "execution_count": 5,
   "metadata": {},
   "outputs": [
    {
     "name": "stdin",
     "output_type": "stream",
     "text": [
      "Enter a number:  63\n"
     ]
    },
    {
     "name": "stdout",
     "output_type": "stream",
     "text": [
      "This number is divisible by 7\n"
     ]
    }
   ],
   "source": [
    "y = int(input(\"Enter a number: \"))\n",
    "if y%7==0:\n",
    "    print(\"This number is divisible by 7\")\n",
    "else:\n",
    "    print(\"This number is not divisible by 7\")"
   ]
  },
  {
   "cell_type": "markdown",
   "metadata": {},
   "source": [
    "5) Write a program to display \n",
    "\"Hello\" if a number entered by user is a multiple of five , otherwise print \"Bye\"."
   ]
  },
  {
   "cell_type": "code",
   "execution_count": 6,
   "metadata": {},
   "outputs": [
    {
     "name": "stdin",
     "output_type": "stream",
     "text": [
      "Enter a number:  9\n"
     ]
    },
    {
     "name": "stdout",
     "output_type": "stream",
     "text": [
      "Bye\n"
     ]
    }
   ],
   "source": [
    "num = int(input(\"Enter a number: \"))\n",
    "if num%5==0:\n",
    "    print(\"Hello\")\n",
    "else:\n",
    "    print(\"Bye\")"
   ]
  },
  {
   "cell_type": "markdown",
   "metadata": {},
   "source": [
    "7) Write a program to display the last digit of a number.\n"
   ]
  },
  {
   "cell_type": "code",
   "execution_count": 9,
   "metadata": {},
   "outputs": [
    {
     "name": "stdin",
     "output_type": "stream",
     "text": [
      "Enter a number:  98\n"
     ]
    },
    {
     "name": "stdout",
     "output_type": "stream",
     "text": [
      "8\n"
     ]
    }
   ],
   "source": [
    "num = int(input(\"Enter a number: \"))\n",
    "last_digit = num % 10\n",
    "print (last_digit)"
   ]
  },
  {
   "cell_type": "markdown",
   "metadata": {},
   "source": [
    "9) Take values of length and breadth of a rectangle from user and print if it is square or rectangle."
   ]
  },
  {
   "cell_type": "code",
   "execution_count": 10,
   "metadata": {},
   "outputs": [
    {
     "name": "stdin",
     "output_type": "stream",
     "text": [
      "Enter length:  78\n",
      "Enter breadth:  90\n"
     ]
    },
    {
     "name": "stdout",
     "output_type": "stream",
     "text": [
      "It is a rectangle\n"
     ]
    }
   ],
   "source": [
    "len = int(input(\"Enter length: \"))\n",
    "bre = int(input(\"Enter breadth: \"))\n",
    "if len == bre:\n",
    "    print(\"It is a square\")\n",
    "else:\n",
    "    print(\"It is a rectangle\")\n"
   ]
  },
  {
   "cell_type": "markdown",
   "metadata": {},
   "source": [
    "10) Take two int values from user and print greatest among them."
   ]
  },
  {
   "cell_type": "code",
   "execution_count": 11,
   "metadata": {},
   "outputs": [
    {
     "name": "stdin",
     "output_type": "stream",
     "text": [
      "Enter number 1:  45\n",
      "Enter number 2:  21\n"
     ]
    },
    {
     "name": "stdout",
     "output_type": "stream",
     "text": [
      "Greater number =  45\n"
     ]
    }
   ],
   "source": [
    "num1 = int(input(\"Enter number 1: \"))\n",
    "num2 = int(input(\"Enter number 2: \"))\n",
    "great = 0\n",
    "if num1 == num2:\n",
    "    print(\"Both numbers are equal\")\n",
    "elif num1 > num2:\n",
    "    great = num1\n",
    "else:\n",
    "    great = num2\n",
    "print (\"Greater number = \",great)"
   ]
  },
  {
   "cell_type": "markdown",
   "metadata": {},
   "source": [
    "11) A shop will give discount of 10% if the cost of purchased quantity is more than 1000.\n",
    "Ask user for quantity\n",
    "Suppose, one unit will cost 100.\n",
    "Judge and print total cost for user."
   ]
  },
  {
   "cell_type": "code",
   "execution_count": 12,
   "metadata": {},
   "outputs": [
    {
     "name": "stdin",
     "output_type": "stream",
     "text": [
      "Enter quantity:  6000\n"
     ]
    },
    {
     "name": "stdout",
     "output_type": "stream",
     "text": [
      "Discounted cost:  540000.0\n"
     ]
    }
   ],
   "source": [
    "unit_price = 100\n",
    "quan = int(input(\"Enter quantity: \"))\n",
    "total_cost = unit_price*quan\n",
    "if quan > 1000:\n",
    "    total_cost-=((total_cost/100)*10)\n",
    "    print(\"Discounted cost: \",total_cost)\n",
    "else:\n",
    "    print(\"Total cost: \",total_cost)"
   ]
  },
  {
   "cell_type": "markdown",
   "metadata": {},
   "source": [
    "12) A school has following rules for grading system:\n",
    "\n",
    "a. Below 25 - F\n",
    "\n",
    "b. 25 to 45 - E\n",
    "\n",
    "c. 45 to 50 - D\n",
    "\n",
    "d. 50 to 60 - C\n",
    "\n",
    "e. 60 to 80 - B\n",
    "\n",
    "f. Above 80 - A\n",
    "\n",
    "Ask user to enter marks and print the corresponding grade."
   ]
  },
  {
   "cell_type": "code",
   "execution_count": 13,
   "metadata": {},
   "outputs": [
    {
     "name": "stdin",
     "output_type": "stream",
     "text": [
      "Enter your marks:  99\n"
     ]
    },
    {
     "name": "stdout",
     "output_type": "stream",
     "text": [
      "Your Grade is: A\n"
     ]
    }
   ],
   "source": [
    "marks = int(input(\"Enter your marks: \"))\n",
    "\n",
    "if marks < 25:\n",
    "    grade = \"F\"\n",
    "elif marks >= 25 and marks < 45:\n",
    "    grade = \"E\"\n",
    "elif marks >= 45 and marks < 50:\n",
    "    grade = \"D\"\n",
    "elif marks >= 50 and marks < 60:\n",
    "    grade = \"C\"\n",
    "elif marks >= 60 and marks <= 80:\n",
    "    grade = \"B\"\n",
    "else:\n",
    "    grade = \"A\"\n",
    "\n",
    "print(\"Your Grade is:\", grade)"
   ]
  },
  {
   "cell_type": "markdown",
   "metadata": {},
   "source": [
    "14)A student will not be allowed to sit in exam if his/her attendence is less than 75%.\n",
    "\n",
    "Take following input from user\n",
    "\n",
    "Number of classes held\n",
    "\n",
    "Number of classes attended.\n",
    "\n",
    "And print\n",
    "\n",
    "percentage of class attended\n",
    "\n",
    "Is student is allowed to sit in exam or not.\n"
   ]
  },
  {
   "cell_type": "code",
   "execution_count": 15,
   "metadata": {},
   "outputs": [
    {
     "name": "stdin",
     "output_type": "stream",
     "text": [
      "Total number of classes held? :  80\n",
      "How many did you attend? :  68\n"
     ]
    },
    {
     "name": "stdout",
     "output_type": "stream",
     "text": [
      "Your attendace is 85.0%. You are allowed to sit in exam\n"
     ]
    }
   ],
   "source": [
    "noch = int(input(\"Total number of classes held? : \"))\n",
    "noca = int(input(\"How many did you attend? : \"))\n",
    "attend = (noca/noch)*100\n",
    "if attend > 75:\n",
    "    print(f\"Your attendace is {attend}%. You are allowed to sit in exam\")\n",
    "else:\n",
    "    print(f\"Your attendace is {attend}%. You are not allowed to sit in exam\")"
   ]
  },
  {
   "cell_type": "markdown",
   "metadata": {},
   "source": [
    "15) Modify the above question to allow student to sit if he/she has medical cause. Ask user if he/she has medical cause or not ( 'Y' or 'N' ) and print accordingly."
   ]
  },
  {
   "cell_type": "code",
   "execution_count": 16,
   "metadata": {},
   "outputs": [
    {
     "name": "stdin",
     "output_type": "stream",
     "text": [
      "Total number of classes held? :  80\n",
      "How many did you attend? :  23\n"
     ]
    },
    {
     "name": "stdout",
     "output_type": "stream",
     "text": [
      "Your attendace is 28.749999999999996%. You are not allowed to sit in exam\n"
     ]
    },
    {
     "name": "stdin",
     "output_type": "stream",
     "text": [
      "Why were you absent? Any medical causes? ('Y' or 'N'):  Y\n"
     ]
    },
    {
     "name": "stdout",
     "output_type": "stream",
     "text": [
      "Ok no problem, you may sit in exam after providing medical certificate\n"
     ]
    }
   ],
   "source": [
    "noch = int(input(\"Total number of classes held? : \"))\n",
    "noca = int(input(\"How many did you attend? : \"))\n",
    "attend = (noca/noch)*100\n",
    "if attend > 75:\n",
    "    print(f\"Your attendace is {attend}%. You are allowed to sit in exam\")\n",
    "else:\n",
    "    print(f\"Your attendace is {attend}%. You are not allowed to sit in exam\")\n",
    "    cause = input(\"Why were you absent? Any medical causes? ('Y' or 'N'): \")\n",
    "    if cause == \"Y\":\n",
    "        print(\"Ok no problem, you may sit in exam after providing medical certificate\")\n",
    "    elif cause == \"N\":\n",
    "        print(\"No way you are sitting in any exam!!\")\n",
    "    else:\n",
    "        print(\"Invalid response\")  "
   ]
  },
  {
   "cell_type": "markdown",
   "metadata": {},
   "source": [
    "16) Write a program to check if a year is leap year or not.\n",
    "\n",
    "If a year is divisible by 4 then it is leap year but if the year is century year like 2000, 1900, 2100 then it must be divisible by 400."
   ]
  },
  {
   "cell_type": "code",
   "execution_count": 17,
   "metadata": {},
   "outputs": [
    {
     "name": "stdin",
     "output_type": "stream",
     "text": [
      "Enter year 2025\n"
     ]
    },
    {
     "name": "stdout",
     "output_type": "stream",
     "text": [
      "it is not a leap year\n"
     ]
    }
   ],
   "source": [
    "year = int(input(\"Enter year\"))\n",
    "cen = year % 100\n",
    "if cen == 0:\n",
    "    if year%400==0:\n",
    "        print(\"It is a leap year\")\n",
    "    else:\n",
    "        print (\"it is not a leap year\")\n",
    "else:\n",
    "    if year%4==0:\n",
    "        print(\"It is a leap year\")\n",
    "    else:\n",
    "        print (\"it is not a leap year\")"
   ]
  },
  {
   "cell_type": "markdown",
   "metadata": {},
   "source": [
    "17) Ask user to enter age, gender ( M or F ), marital status ( Y or N ) and then using following rules print their place of service.\n",
    "\n",
    "if employee is female, then she will work only in urban areas.\n",
    "\n",
    "if employee is a male and age is in between 20 to 40 then he may work in anywhere\n",
    "\n",
    "if employee is male and age is in between 40 t0 60 then he will work in urban areas only.\n",
    "\n",
    "And any other input of age should print \"ERROR\""
   ]
  },
  {
   "cell_type": "code",
   "execution_count": 18,
   "metadata": {},
   "outputs": [
    {
     "name": "stdin",
     "output_type": "stream",
     "text": [
      "What is your gender? ('M' or 'F'):  M\n",
      "Are you married? ('Y' or 'N'):  N\n",
      "How old are you? :  20\n"
     ]
    },
    {
     "name": "stdout",
     "output_type": "stream",
     "text": [
      "You may work anywhere\n"
     ]
    }
   ],
   "source": [
    "gen = input(\"What is your gender? ('M' or 'F'): \")\n",
    "ms = input(\"Are you married? ('Y' or 'N'): \")\n",
    "if gen == 'F':\n",
    "    print(\"You will work only in urban areas.\")\n",
    "elif gen == 'M':\n",
    "    age = int(input(\"How old are you? : \"))\n",
    "    if age >= 20 and age <= 40:\n",
    "        print(\"You may work anywhere\")\n",
    "    elif age > 40 and age <= 60:\n",
    "        print(\"You will work in urban areas only\")\n",
    "    else:\n",
    "        print(\"ERROR: Invalid Input\")\n",
    "else:\n",
    "    print(\"ERROR: Invalid Gender\")\n"
   ]
  },
  {
   "cell_type": "markdown",
   "metadata": {},
   "source": [
    "6) Write a program to calculate the electricity bill (accept number of unit from user) according to the following criteria :\n",
    "     Unit                                                     Price  \n",
    "uptp 100 units                                             no charge\n",
    "Next 200 units                                              Rs 5 per unit\n",
    "After 200 units                                             Rs 10 per unit\n",
    "(For example if input unit is 350 than total bill amount is Rs.3500\n",
    "(For example if input unit is 97 than total bill amount is Rs.0\n",
    "(For example if input unit is 150 than total bill amount is Rs.750"
   ]
  },
  {
   "cell_type": "code",
   "execution_count": 19,
   "metadata": {},
   "outputs": [
    {
     "name": "stdin",
     "output_type": "stream",
     "text": [
      "enter the number of units used:  300\n"
     ]
    },
    {
     "name": "stdout",
     "output_type": "stream",
     "text": [
      "Your total bill amount at 300 units is 3000\n"
     ]
    }
   ],
   "source": [
    "units = int(input(\"enter the number of units used: \"))\n",
    "total_amt = 0\n",
    "if units <= 100:\n",
    "    print(f\"Your total bill amount at {units} units is {total_amt}\")\n",
    "elif units <=200:\n",
    "    total_amt = units*5\n",
    "    print(f\"Your total bill amount at {units} units is {total_amt}\")\n",
    "else:\n",
    "    total_amt = units*10\n",
    "    print(f\"Your total bill amount at {units} units is {total_amt}\")"
   ]
  },
  {
   "cell_type": "markdown",
   "metadata": {},
   "source": [
    "13) Take input of age of 3 people by user and determine oldest and youngest among them."
   ]
  },
  {
   "cell_type": "code",
   "execution_count": 20,
   "metadata": {},
   "outputs": [
    {
     "name": "stdin",
     "output_type": "stream",
     "text": [
      "Enter age of the first person:  12\n",
      "Enter age of the second person:  32\n",
      "Enter age of the third person:  11\n"
     ]
    },
    {
     "name": "stdout",
     "output_type": "stream",
     "text": [
      "Oldest age: 32\n",
      "Youngest age: 11\n"
     ]
    }
   ],
   "source": [
    "age1 = int(input(\"Enter age of the first person: \"))\n",
    "age2 = int(input(\"Enter age of the second person: \"))\n",
    "age3 = int(input(\"Enter age of the third person: \"))\n",
    "old = max(age1, age2, age3)\n",
    "young = min(age1, age2, age3)\n",
    "print(\"Oldest age:\", old)\n",
    "print(\"Youngest age:\", young)"
   ]
  },
  {
   "cell_type": "code",
   "execution_count": null,
   "metadata": {},
   "outputs": [],
   "source": []
  }
 ],
 "metadata": {
  "kernelspec": {
   "display_name": "Python 3 (ipykernel)",
   "language": "python",
   "name": "python3"
  },
  "language_info": {
   "codemirror_mode": {
    "name": "ipython",
    "version": 3
   },
   "file_extension": ".py",
   "mimetype": "text/x-python",
   "name": "python",
   "nbconvert_exporter": "python",
   "pygments_lexer": "ipython3",
   "version": "3.13.1"
  }
 },
 "nbformat": 4,
 "nbformat_minor": 4
}
